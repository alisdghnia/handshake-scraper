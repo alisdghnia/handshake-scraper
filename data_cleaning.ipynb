{
 "cells": [
  {
   "attachments": {},
   "cell_type": "markdown",
   "metadata": {},
   "source": [
    "Data Dictionary for initial dataframe (data2.csv)\n",
    "\n",
    "* **Job Title**: contains the title of the job position that is being advertise\n",
    "* **Job Info**: contains information about the job, such as whether it is full-time or part-time, and whether it is a job or an internship\n",
    "* **Company Name**: contains the name of the company that is offering the job\n",
    "* **Company Location**: contains the location of the company, including the city and state\n",
    "* **Employees**: contains information about the size of the company, such as the number of employees\n",
    "* **Industry**: contains the industry in which the company operates\n",
    "* **Headquarters**: contains the location of the company's headquarters\n",
    "* **Application deadline**: contains the date and time by which job applications must be submitted\n",
    "* **Posted date**: contains the date on which the job was posted\n",
    "* **Location type**: contains information about the type of location where the job is located, such as whether it is on-site or remote\n",
    "* **US work authorization**: contains information about whether the company requires candidates to have US work authorization\n",
    "* **Estimated pay**: contains information about the estimated pay for the job position.\n",
    "* **Seasonal role**: contains information about the working perid for sesonal roles.\n",
    "* **Company division**: contains information about the division of the company that is offering the job\n",
    "* **Work study**: contains information about whether the job is a work study program\n",
    "\n"
   ]
  },
  {
   "attachments": {},
   "cell_type": "markdown",
   "metadata": {},
   "source": [
    "Important libraries"
   ]
  },
  {
   "cell_type": "code",
   "execution_count": 1,
   "metadata": {},
   "outputs": [],
   "source": [
    "import pandas as pd\n",
    "import numpy as np"
   ]
  },
  {
   "attachments": {},
   "cell_type": "markdown",
   "metadata": {},
   "source": [
    "Read data from Exel file and create DataFrame for future analysis"
   ]
  },
  {
   "cell_type": "code",
   "execution_count": 2,
   "metadata": {},
   "outputs": [],
   "source": [
    "df = pd.read_csv(\"data2.csv\")\n",
    "df_modify = df.copy()"
   ]
  },
  {
   "attachments": {},
   "cell_type": "markdown",
   "metadata": {},
   "source": [
    "Explore initial datafram"
   ]
  },
  {
   "cell_type": "code",
   "execution_count": 3,
   "metadata": {},
   "outputs": [
    {
     "data": {
      "text/html": [
       "<div>\n",
       "<style scoped>\n",
       "    .dataframe tbody tr th:only-of-type {\n",
       "        vertical-align: middle;\n",
       "    }\n",
       "\n",
       "    .dataframe tbody tr th {\n",
       "        vertical-align: top;\n",
       "    }\n",
       "\n",
       "    .dataframe thead th {\n",
       "        text-align: right;\n",
       "    }\n",
       "</style>\n",
       "<table border=\"1\" class=\"dataframe\">\n",
       "  <thead>\n",
       "    <tr style=\"text-align: right;\">\n",
       "      <th></th>\n",
       "      <th>Job Title</th>\n",
       "      <th>Job Info</th>\n",
       "      <th>Company Name</th>\n",
       "      <th>Company Location</th>\n",
       "      <th>Employees</th>\n",
       "      <th>Industry</th>\n",
       "      <th>Headquarters</th>\n",
       "      <th>Application deadline</th>\n",
       "      <th>Posted date</th>\n",
       "      <th>Location type</th>\n",
       "      <th>US work authorization</th>\n",
       "      <th>Estimated pay</th>\n",
       "      <th>Seasonal role</th>\n",
       "      <th>Company division</th>\n",
       "      <th>Work study</th>\n",
       "    </tr>\n",
       "  </thead>\n",
       "  <tbody>\n",
       "    <tr>\n",
       "      <th>0</th>\n",
       "      <td>Entry Level Insurance Underwriter</td>\n",
       "      <td>Full-Time ∙ Job</td>\n",
       "      <td>Auto-Owners Insurance Company</td>\n",
       "      <td>Lakeland, FL\\nIrmo, SC\\nForest, VA\\nLexington,...</td>\n",
       "      <td>5,000 - 10,000</td>\n",
       "      <td>Insurance</td>\n",
       "      <td>Lansing, MI</td>\n",
       "      <td>4/4/2023 15:30</td>\n",
       "      <td>13-Jul-16</td>\n",
       "      <td>On-site</td>\n",
       "      <td>Required</td>\n",
       "      <td>NaN</td>\n",
       "      <td>NaN</td>\n",
       "      <td>NaN</td>\n",
       "      <td>NaN</td>\n",
       "    </tr>\n",
       "    <tr>\n",
       "      <th>1</th>\n",
       "      <td>Internships</td>\n",
       "      <td>Full-Time ∙ Internship</td>\n",
       "      <td>Auto-Owners Insurance Company</td>\n",
       "      <td>Lakeland, FL\\nIrmo, SC\\nCharlotte, NC\\nForest,...</td>\n",
       "      <td>5,000 - 10,000</td>\n",
       "      <td>Insurance</td>\n",
       "      <td>Lansing, MI</td>\n",
       "      <td>4/4/2023 15:30</td>\n",
       "      <td>13-Jul-16</td>\n",
       "      <td>On-site</td>\n",
       "      <td>Required</td>\n",
       "      <td>NaN</td>\n",
       "      <td>NaN</td>\n",
       "      <td>NaN</td>\n",
       "      <td>NaN</td>\n",
       "    </tr>\n",
       "    <tr>\n",
       "      <th>2</th>\n",
       "      <td>Blood Bank Associate Technical Support Specialist</td>\n",
       "      <td>Full-Time ∙ Job</td>\n",
       "      <td>SCC Soft Computer</td>\n",
       "      <td>Clearwater, FL</td>\n",
       "      <td>250 - 1,000</td>\n",
       "      <td>Internet &amp; Software</td>\n",
       "      <td>Clearwater, FL</td>\n",
       "      <td>3/13/2023 0:00</td>\n",
       "      <td>22-Aug-16</td>\n",
       "      <td>On-site</td>\n",
       "      <td>Required</td>\n",
       "      <td>$19.00 per hour</td>\n",
       "      <td>NaN</td>\n",
       "      <td>NaN</td>\n",
       "      <td>NaN</td>\n",
       "    </tr>\n",
       "    <tr>\n",
       "      <th>3</th>\n",
       "      <td>Lab/Mic Associate Technical Support Specialist</td>\n",
       "      <td>Full-Time ∙ Job</td>\n",
       "      <td>SCC Soft Computer</td>\n",
       "      <td>Clearwater, FL</td>\n",
       "      <td>250 - 1,000</td>\n",
       "      <td>Internet &amp; Software</td>\n",
       "      <td>Clearwater, FL</td>\n",
       "      <td>3/13/2023 0:00</td>\n",
       "      <td>22-Aug-16</td>\n",
       "      <td>On-site</td>\n",
       "      <td>Required</td>\n",
       "      <td>$18.00 per hour</td>\n",
       "      <td>NaN</td>\n",
       "      <td>NaN</td>\n",
       "      <td>NaN</td>\n",
       "    </tr>\n",
       "    <tr>\n",
       "      <th>4</th>\n",
       "      <td>Computer Science Intern - Online Computer Scie...</td>\n",
       "      <td>Part-Time ∙ Internship</td>\n",
       "      <td>Coding4Youth</td>\n",
       "      <td>Atlanta, GA\\nHouston, TX\\nPhiladelphia, PA\\nCh...</td>\n",
       "      <td>10,000 - 25,000</td>\n",
       "      <td>Other Education</td>\n",
       "      <td>San Jose, CA</td>\n",
       "      <td>9/29/2050 21:31</td>\n",
       "      <td>19-Sep-16</td>\n",
       "      <td>Remote</td>\n",
       "      <td>Required</td>\n",
       "      <td>$20.00 per hour</td>\n",
       "      <td>(6/5/17 - 9/12/90)</td>\n",
       "      <td>NaN</td>\n",
       "      <td>NaN</td>\n",
       "    </tr>\n",
       "  </tbody>\n",
       "</table>\n",
       "</div>"
      ],
      "text/plain": [
       "                                           Job Title                Job Info  \\\n",
       "0                  Entry Level Insurance Underwriter         Full-Time ∙ Job   \n",
       "1                                        Internships  Full-Time ∙ Internship   \n",
       "2  Blood Bank Associate Technical Support Specialist         Full-Time ∙ Job   \n",
       "3     Lab/Mic Associate Technical Support Specialist         Full-Time ∙ Job   \n",
       "4  Computer Science Intern - Online Computer Scie...  Part-Time ∙ Internship   \n",
       "\n",
       "                    Company Name  \\\n",
       "0  Auto-Owners Insurance Company   \n",
       "1  Auto-Owners Insurance Company   \n",
       "2              SCC Soft Computer   \n",
       "3              SCC Soft Computer   \n",
       "4                   Coding4Youth   \n",
       "\n",
       "                                    Company Location        Employees  \\\n",
       "0  Lakeland, FL\\nIrmo, SC\\nForest, VA\\nLexington,...   5,000 - 10,000   \n",
       "1  Lakeland, FL\\nIrmo, SC\\nCharlotte, NC\\nForest,...   5,000 - 10,000   \n",
       "2                                     Clearwater, FL      250 - 1,000   \n",
       "3                                     Clearwater, FL      250 - 1,000   \n",
       "4  Atlanta, GA\\nHouston, TX\\nPhiladelphia, PA\\nCh...  10,000 - 25,000   \n",
       "\n",
       "              Industry    Headquarters Application deadline Posted date  \\\n",
       "0            Insurance     Lansing, MI       4/4/2023 15:30   13-Jul-16   \n",
       "1            Insurance     Lansing, MI       4/4/2023 15:30   13-Jul-16   \n",
       "2  Internet & Software  Clearwater, FL       3/13/2023 0:00   22-Aug-16   \n",
       "3  Internet & Software  Clearwater, FL       3/13/2023 0:00   22-Aug-16   \n",
       "4      Other Education    San Jose, CA      9/29/2050 21:31   19-Sep-16   \n",
       "\n",
       "  Location type US work authorization    Estimated pay       Seasonal role  \\\n",
       "0       On-site              Required              NaN                 NaN   \n",
       "1       On-site              Required              NaN                 NaN   \n",
       "2       On-site              Required  $19.00 per hour                 NaN   \n",
       "3       On-site              Required  $18.00 per hour                 NaN   \n",
       "4        Remote              Required  $20.00 per hour  (6/5/17 - 9/12/90)   \n",
       "\n",
       "  Company division Work study  \n",
       "0              NaN        NaN  \n",
       "1              NaN        NaN  \n",
       "2              NaN        NaN  \n",
       "3              NaN        NaN  \n",
       "4              NaN        NaN  "
      ]
     },
     "execution_count": 3,
     "metadata": {},
     "output_type": "execute_result"
    }
   ],
   "source": [
    "df_modify.head()"
   ]
  },
  {
   "cell_type": "code",
   "execution_count": 4,
   "metadata": {},
   "outputs": [
    {
     "name": "stdout",
     "output_type": "stream",
     "text": [
      "<class 'pandas.core.frame.DataFrame'>\n",
      "RangeIndex: 19447 entries, 0 to 19446\n",
      "Data columns (total 15 columns):\n",
      " #   Column                 Non-Null Count  Dtype \n",
      "---  ------                 --------------  ----- \n",
      " 0   Job Title              19447 non-null  object\n",
      " 1   Job Info               19447 non-null  object\n",
      " 2   Company Name           19447 non-null  object\n",
      " 3   Company Location       19447 non-null  object\n",
      " 4   Employees              19447 non-null  object\n",
      " 5   Industry               19447 non-null  object\n",
      " 6   Headquarters           19442 non-null  object\n",
      " 7   Application deadline   19447 non-null  object\n",
      " 8   Posted date            19447 non-null  object\n",
      " 9   Location type          19447 non-null  object\n",
      " 10  US work authorization  19244 non-null  object\n",
      " 11  Estimated pay          11334 non-null  object\n",
      " 12  Seasonal role          4530 non-null   object\n",
      " 13  Company division       3220 non-null   object\n",
      " 14  Work study             1 non-null      object\n",
      "dtypes: object(15)\n",
      "memory usage: 2.2+ MB\n"
     ]
    }
   ],
   "source": [
    "df_modify.info()"
   ]
  },
  {
   "cell_type": "code",
   "execution_count": 5,
   "metadata": {},
   "outputs": [
    {
     "data": {
      "text/plain": [
       "(19447, 15)"
      ]
     },
     "execution_count": 5,
     "metadata": {},
     "output_type": "execute_result"
    }
   ],
   "source": [
    "df_modify.shape"
   ]
  },
  {
   "cell_type": "code",
   "execution_count": 6,
   "metadata": {},
   "outputs": [
    {
     "data": {
      "text/plain": [
       "Index(['Job Title', 'Job Info', 'Company Name', 'Company Location',\n",
       "       'Employees', 'Industry', 'Headquarters', 'Application deadline',\n",
       "       'Posted date', 'Location type', 'US work authorization',\n",
       "       'Estimated pay', 'Seasonal role', 'Company division', 'Work study'],\n",
       "      dtype='object')"
      ]
     },
     "execution_count": 6,
     "metadata": {},
     "output_type": "execute_result"
    }
   ],
   "source": [
    "df_modify.columns"
   ]
  },
  {
   "attachments": {},
   "cell_type": "markdown",
   "metadata": {},
   "source": [
    "Application deadline/ Post date"
   ]
  },
  {
   "cell_type": "code",
   "execution_count": 7,
   "metadata": {},
   "outputs": [],
   "source": [
    "# Convert 'Application deadline' column to datetime format\n",
    "df_modify['Application deadline'] = pd.to_datetime(df_modify['Application deadline'])\n",
    "\n",
    "# Convert 'Posted date' column to datetime format\n",
    "df_modify['Posted date'] = pd.to_datetime(df_modify['Posted date'])\n",
    "\n",
    "# Extract the date and time components from 'Application deadline' column and create new columns\n",
    "df_modify['Application deadline (date)'] = df_modify['Application deadline'].dt.date\n",
    "df_modify['Application deadline (time)'] = df_modify['Application deadline'].dt.time\n",
    "\n",
    "# Calculate the time difference between 'Application deadline (date)' and 'Posted date' columns and create a new column 'Application Window'\n",
    "df_modify['Application Window'] = pd.to_datetime(df_modify['Application deadline (date)']) - df_modify['Posted date']\n",
    "\n",
    "# Convert 'Application deadline (date)' column to datetime format\n",
    "df_modify['Application deadline (date)'] = pd.to_datetime(df_modify['Application deadline (date)'])\n",
    "\n",
    "# Drop 'Application deadline' column since we don't need it anymore\n",
    "df_modify.drop('Application deadline', axis=1, inplace=True)"
   ]
  },
  {
   "attachments": {},
   "cell_type": "markdown",
   "metadata": {},
   "source": [
    "Job Type\n"
   ]
  },
  {
   "cell_type": "code",
   "execution_count": 8,
   "metadata": {},
   "outputs": [],
   "source": [
    "# split the job_type column into two separate columns based on the \" ∙ \" separator\n",
    "df_modify[['Employment Type', 'Job Type', \"Payment Status\"]] = df_modify['Job Info'].str.split(' ∙ ', expand=True)\n",
    "\n",
    "# Modify the 'Payment Status' column to contain boolean values indicating if the job is paid or unpaid\n",
    "df_modify['Payment Status'] = df_modify['Estimated pay'].apply(lambda x: 'Paid' if pd.notnull(x) else 'Unpaid')\n",
    "\n",
    "# drop the original job_type column\n",
    "df_modify.drop('Job Info', axis=1, inplace=True)\n"
   ]
  },
  {
   "cell_type": "markdown",
   "metadata": {},
   "source": [
    "Location"
   ]
  },
  {
   "cell_type": "code",
   "execution_count": 9,
   "metadata": {},
   "outputs": [],
   "source": [
    "# Caluclate the number of company locations based on the \"\\n\" separator, if row contains one, else use 1\n",
    "df_modify['Number of Location'] = df_modify['Company Location'].apply(lambda x: x.count('\\n') + 1 if '\\n' in x else 1)\n",
    "#Replace '\\n' with ' ' if 'Company Location' row contains one, else keep row without changes\n",
    "df_modify['Company Location'] = df_modify['Company Location'].apply(lambda x: x.replace('\\n', ' ') if '\\n' in x else x)\n"
   ]
  },
  {
   "cell_type": "markdown",
   "metadata": {},
   "source": [
    "Seasonal Role"
   ]
  },
  {
   "cell_type": "code",
   "execution_count": 10,
   "metadata": {},
   "outputs": [
    {
     "name": "stderr",
     "output_type": "stream",
     "text": [
      "C:\\Users\\owner\\AppData\\Local\\Temp\\ipykernel_4784\\3422222050.py:5: FutureWarning: The default value of regex will change from True to False in a future version. In addition, single character regular expressions will *not* be treated as literal strings when regex=True.\n",
      "  df_modify['Role start date'] = df_modify['Role start date'].str.replace('(','')\n",
      "C:\\Users\\owner\\AppData\\Local\\Temp\\ipykernel_4784\\3422222050.py:6: FutureWarning: The default value of regex will change from True to False in a future version. In addition, single character regular expressions will *not* be treated as literal strings when regex=True.\n",
      "  df_modify['Role end date'] = df_modify['Role end date'].str.replace(')','')\n"
     ]
    }
   ],
   "source": [
    "# create role_start_date and role_end_date columns from seasonal_role\n",
    "df_modify[['Role start date', 'Role end date']] = df_modify['Seasonal role'].str.split(' - ', expand=True)\n",
    "\n",
    "# Remove the brackets from 'Role start date' and 'Role end date'\n",
    "df_modify['Role start date'] = df_modify['Role start date'].str.replace('(','')\n",
    "df_modify['Role end date'] = df_modify['Role end date'].str.replace(')','')\n",
    "\n",
    "# Convert 'Role start date' and 'Role end date' to datetime format\n",
    "df_modify['Role start date'] = pd.to_datetime(df_modify['Role start date'])\n",
    "df_modify['Role end date'] = pd.to_datetime(df_modify['Role end date'])\n",
    "\n",
    "# modify seasonal_role column to contain boolean values\n",
    "df_modify['Seasonal role'] = df_modify['Seasonal role'].notna()\n"
   ]
  },
  {
   "cell_type": "markdown",
   "metadata": {},
   "source": [
    "Estimated Salary"
   ]
  },
  {
   "cell_type": "code",
   "execution_count": 11,
   "metadata": {},
   "outputs": [
    {
     "name": "stderr",
     "output_type": "stream",
     "text": [
      "C:\\Users\\owner\\AppData\\Local\\Temp\\ipykernel_4784\\605505757.py:4: FutureWarning: The default value of regex will change from True to False in a future version. In addition, single character regular expressions will *not* be treated as literal strings when regex=True.\n",
      "  df_modify['Pay rate'] = df_modify['Pay rate'].str.replace('$','')\n"
     ]
    }
   ],
   "source": [
    "# Split the 'Estimated pay' column into two separate columns 'Pay rate' and 'Payment Period' based on the separator 'per'\n",
    "df_modify[['Pay rate','Payment Period']] = df_modify['Estimated pay'].str.split('per', expand=True)\n",
    "\n",
    "# Strip any leading or trailing white spaces in the 'Payment Period' column\n",
    "df_modify['Payment Period'] = df_modify['Payment Period'].str.strip()\n",
    "\n",
    "\n",
    "# Remove the dollar sign '$' from the 'Pay rate' column\n",
    "df_modify['Pay rate'] = df_modify['Pay rate'].str.replace('$','')\n",
    "\n",
    "# Extract the minimum and maximum salary values from the 'Pay rate' column and store them in new columns 'Min salary' and 'Max salary', respectively\n",
    "df_modify['Min salary'] = df_modify['Pay rate'].apply(lambda x: x.split('-')[0].strip() if isinstance(x, str) and '-' in x else None)\n",
    "df_modify['Max salary'] = df_modify['Pay rate'].apply(lambda x: x.split('-')[1].strip() if isinstance(x, str) and '-' in x and len(x.split('-')) >= 2 else None)\n",
    "df_modify['Min salary'] = df_modify['Pay rate'].apply(lambda x: x.split('-')[0].strip().replace(',', '') if isinstance(x, str) else None)\n",
    "df_modify['Max salary'] = df_modify['Pay rate'].apply(lambda x: x.split('-')[1].strip().replace(',', '') if isinstance(x, str) and '-' in x else None)\n",
    "\n",
    "# Convert the 'Min salary' and 'Max salary' columns to numeric data types\n",
    "df_modify['Min salary'] = pd.to_numeric(df_modify['Min salary'])\n",
    "df_modify['Max salary'] = pd.to_numeric(df_modify['Max salary'])\n",
    "\n",
    "# Fill any missing values in the 'Max salary' column with the corresponding value from the 'Min salary' column\n",
    "df_modify['Max salary'].fillna(df_modify['Min salary'], inplace=True)\n",
    "\n",
    "# Drop the original 'Estimated pay' column from the DataFrame using the drop() method with axis=1, inplace=True\n",
    "df_modify.drop('Estimated pay', axis=1, inplace=True)"
   ]
  },
  {
   "attachments": {},
   "cell_type": "markdown",
   "metadata": {},
   "source": [
    "Work study"
   ]
  },
  {
   "cell_type": "code",
   "execution_count": 12,
   "metadata": {},
   "outputs": [],
   "source": [
    "#Drop the 'Work study' column from the dataframe.\n",
    "df_modify.drop('Work study', axis=1, inplace=True)"
   ]
  },
  {
   "attachments": {},
   "cell_type": "markdown",
   "metadata": {},
   "source": [
    "Explore modified dataframe"
   ]
  },
  {
   "cell_type": "code",
   "execution_count": 13,
   "metadata": {},
   "outputs": [
    {
     "name": "stdout",
     "output_type": "stream",
     "text": [
      "<class 'pandas.core.frame.DataFrame'>\n",
      "RangeIndex: 19447 entries, 0 to 19446\n",
      "Data columns (total 24 columns):\n",
      " #   Column                       Non-Null Count  Dtype          \n",
      "---  ------                       --------------  -----          \n",
      " 0   Job Title                    19447 non-null  object         \n",
      " 1   Company Name                 19447 non-null  object         \n",
      " 2   Company Location             19447 non-null  object         \n",
      " 3   Employees                    19447 non-null  object         \n",
      " 4   Industry                     19447 non-null  object         \n",
      " 5   Headquarters                 19442 non-null  object         \n",
      " 6   Posted date                  19447 non-null  datetime64[ns] \n",
      " 7   Location type                19447 non-null  object         \n",
      " 8   US work authorization        19244 non-null  object         \n",
      " 9   Seasonal role                19447 non-null  bool           \n",
      " 10  Company division             3220 non-null   object         \n",
      " 11  Application deadline (date)  19447 non-null  datetime64[ns] \n",
      " 12  Application deadline (time)  19447 non-null  object         \n",
      " 13  Application Window           19447 non-null  timedelta64[ns]\n",
      " 14  Employment Type              19447 non-null  object         \n",
      " 15  Job Type                     19447 non-null  object         \n",
      " 16  Payment Status               19447 non-null  object         \n",
      " 17  Number of Location           19447 non-null  int64          \n",
      " 18  Role start date              4530 non-null   datetime64[ns] \n",
      " 19  Role end date                4530 non-null   datetime64[ns] \n",
      " 20  Pay rate                     11334 non-null  object         \n",
      " 21  Payment Period               11334 non-null  object         \n",
      " 22  Min salary                   11334 non-null  float64        \n",
      " 23  Max salary                   11334 non-null  float64        \n",
      "dtypes: bool(1), datetime64[ns](4), float64(2), int64(1), object(15), timedelta64[ns](1)\n",
      "memory usage: 3.4+ MB\n"
     ]
    }
   ],
   "source": [
    "df_modify.info()"
   ]
  },
  {
   "cell_type": "code",
   "execution_count": 14,
   "metadata": {},
   "outputs": [
    {
     "name": "stdout",
     "output_type": "stream",
     "text": [
      "Index(['Job Title', 'Job Info', 'Company Name', 'Company Location',\n",
      "       'Employees', 'Industry', 'Headquarters', 'Application deadline',\n",
      "       'Posted date', 'Location type', 'US work authorization',\n",
      "       'Estimated pay', 'Seasonal role', 'Company division', 'Work study'],\n",
      "      dtype='object')\n",
      "_________________________\n",
      "Index(['Job Title', 'Company Name', 'Company Location', 'Employees',\n",
      "       'Industry', 'Headquarters', 'Posted date', 'Location type',\n",
      "       'US work authorization', 'Seasonal role', 'Company division',\n",
      "       'Application deadline (date)', 'Application deadline (time)',\n",
      "       'Application Window', 'Employment Type', 'Job Type', 'Payment Status',\n",
      "       'Number of Location', 'Role start date', 'Role end date', 'Pay rate',\n",
      "       'Payment Period', 'Min salary', 'Max salary'],\n",
      "      dtype='object')\n",
      "_________________________\n",
      "(19447, 24)\n"
     ]
    }
   ],
   "source": [
    "print(df.columns)\n",
    "print(\"_________________________\")\n",
    "print(df_modify.columns)\n",
    "print(\"_________________________\")\n",
    "print(df_modify.shape)"
   ]
  },
  {
   "attachments": {},
   "cell_type": "markdown",
   "metadata": {},
   "source": [
    "Change order of columns"
   ]
  },
  {
   "cell_type": "code",
   "execution_count": 15,
   "metadata": {},
   "outputs": [],
   "source": [
    "df_modify = df_modify[['Job Title',\n",
    "                       'Company Name',\n",
    "                       'Industry',\n",
    "                       'Company division',\n",
    "                       \n",
    "                       'Posted date',\n",
    "                       'Application deadline (date)', \n",
    "                       'Application deadline (time)',\n",
    "                       'Application Window',\n",
    "\n",
    "                       'Employment Type',\n",
    "                       'Job Type',\n",
    "                       'Location type', \n",
    "\n",
    "                       'US work authorization',\n",
    "\n",
    "                       'Seasonal role',\n",
    "                       'Role start date', \n",
    "                       'Role end date',\n",
    "\n",
    "                       'Payment Status',\n",
    "                       'Payment Period',\n",
    "                       'Pay rate', \n",
    "                       'Min salary', \n",
    "                       'Max salary',\n",
    "\n",
    "                       'Headquarters',\n",
    "                       'Company Location',\n",
    "                       'Number of Location',\n",
    "\n",
    "                       'Employees'\n",
    "                       ]]"
   ]
  },
  {
   "attachments": {},
   "cell_type": "markdown",
   "metadata": {},
   "source": [
    "Data Dictionary for modified table (modified_data.csv)\n",
    "\n",
    "* **Job Title**: The title of the job position being advertised.\n",
    "* **Company Name**: The name of the company offering the job.\n",
    "* **Industry**: The industry in which the company operates.\n",
    "* **Company division**: The division of the company that is offering the job.\n",
    "* **Posted date**: The date on which the job was posted.\n",
    "* **Application deadline (date)**: The date by which job applications must be submitted.\n",
    " * **Application deadline (time)**: The time of day by which job applications must be submitted.\n",
    "* **Application Window**: The time period between the job being posted and the application deadline.\n",
    "* **Employment Type**: Whether the job is full-time, part-time, or some other type of employment.\n",
    "* **Job Type**: Whether the job is a job or an internship.\n",
    "* **Location type**: Whether the job is on-site or remote.\n",
    "* **US work authorization**: Whether the company requires candidates to have US work authorization.\n",
    "* **Seasonal role**: Whether the job is a seasonal role.\n",
    "* **Role start date**: The date on which the seasonal role starts.\n",
    "* **Role end date**: The date on which the seasonal role ends.\n",
    "* **Payment Status**: Whether the job is paid or unpaid.\n",
    "* **Payment Period**: Describes the period for payment in the job posting (year/month/hour).\n",
    "* **Pay rate**: The rate at which the job pays.\n",
    "* **Min salary**: The minimum salary for the job.\n",
    "* **Max salary**: The maximum salary for the job.\n",
    "* **Headquarters**: The location of the company's headquarters.\n",
    "* **Company Location**: The location of the company offering the job.\n",
    "* **Number of Location**: The number of locations where the company has offices.\n",
    "* **Employees**: Information about the size of the company, such as the number of employees"
   ]
  },
  {
   "cell_type": "code",
   "execution_count": 16,
   "metadata": {},
   "outputs": [
    {
     "data": {
      "text/html": [
       "<div>\n",
       "<style scoped>\n",
       "    .dataframe tbody tr th:only-of-type {\n",
       "        vertical-align: middle;\n",
       "    }\n",
       "\n",
       "    .dataframe tbody tr th {\n",
       "        vertical-align: top;\n",
       "    }\n",
       "\n",
       "    .dataframe thead th {\n",
       "        text-align: right;\n",
       "    }\n",
       "</style>\n",
       "<table border=\"1\" class=\"dataframe\">\n",
       "  <thead>\n",
       "    <tr style=\"text-align: right;\">\n",
       "      <th></th>\n",
       "      <th>Job Title</th>\n",
       "      <th>Company Name</th>\n",
       "      <th>Industry</th>\n",
       "      <th>Company division</th>\n",
       "      <th>Posted date</th>\n",
       "      <th>Application deadline (date)</th>\n",
       "      <th>Application deadline (time)</th>\n",
       "      <th>Application Window</th>\n",
       "      <th>Employment Type</th>\n",
       "      <th>Job Type</th>\n",
       "      <th>...</th>\n",
       "      <th>Role end date</th>\n",
       "      <th>Payment Status</th>\n",
       "      <th>Payment Period</th>\n",
       "      <th>Pay rate</th>\n",
       "      <th>Min salary</th>\n",
       "      <th>Max salary</th>\n",
       "      <th>Headquarters</th>\n",
       "      <th>Company Location</th>\n",
       "      <th>Number of Location</th>\n",
       "      <th>Employees</th>\n",
       "    </tr>\n",
       "  </thead>\n",
       "  <tbody>\n",
       "    <tr>\n",
       "      <th>0</th>\n",
       "      <td>Entry Level Insurance Underwriter</td>\n",
       "      <td>Auto-Owners Insurance Company</td>\n",
       "      <td>Insurance</td>\n",
       "      <td>NaN</td>\n",
       "      <td>2016-07-13</td>\n",
       "      <td>2023-04-04</td>\n",
       "      <td>15:30:00</td>\n",
       "      <td>2456 days</td>\n",
       "      <td>Full-Time</td>\n",
       "      <td>Job</td>\n",
       "      <td>...</td>\n",
       "      <td>NaT</td>\n",
       "      <td>Unpaid</td>\n",
       "      <td>NaN</td>\n",
       "      <td>NaN</td>\n",
       "      <td>NaN</td>\n",
       "      <td>NaN</td>\n",
       "      <td>Lansing, MI</td>\n",
       "      <td>Lakeland, FL Irmo, SC Forest, VA Lexington, KY...</td>\n",
       "      <td>18</td>\n",
       "      <td>5,000 - 10,000</td>\n",
       "    </tr>\n",
       "    <tr>\n",
       "      <th>1</th>\n",
       "      <td>Internships</td>\n",
       "      <td>Auto-Owners Insurance Company</td>\n",
       "      <td>Insurance</td>\n",
       "      <td>NaN</td>\n",
       "      <td>2016-07-13</td>\n",
       "      <td>2023-04-04</td>\n",
       "      <td>15:30:00</td>\n",
       "      <td>2456 days</td>\n",
       "      <td>Full-Time</td>\n",
       "      <td>Internship</td>\n",
       "      <td>...</td>\n",
       "      <td>NaT</td>\n",
       "      <td>Unpaid</td>\n",
       "      <td>NaN</td>\n",
       "      <td>NaN</td>\n",
       "      <td>NaN</td>\n",
       "      <td>NaN</td>\n",
       "      <td>Lansing, MI</td>\n",
       "      <td>Lakeland, FL Irmo, SC Charlotte, NC Forest, VA...</td>\n",
       "      <td>20</td>\n",
       "      <td>5,000 - 10,000</td>\n",
       "    </tr>\n",
       "    <tr>\n",
       "      <th>2</th>\n",
       "      <td>Blood Bank Associate Technical Support Specialist</td>\n",
       "      <td>SCC Soft Computer</td>\n",
       "      <td>Internet &amp; Software</td>\n",
       "      <td>NaN</td>\n",
       "      <td>2016-08-22</td>\n",
       "      <td>2023-03-13</td>\n",
       "      <td>00:00:00</td>\n",
       "      <td>2394 days</td>\n",
       "      <td>Full-Time</td>\n",
       "      <td>Job</td>\n",
       "      <td>...</td>\n",
       "      <td>NaT</td>\n",
       "      <td>Paid</td>\n",
       "      <td>hour</td>\n",
       "      <td>19.00</td>\n",
       "      <td>19.0</td>\n",
       "      <td>19.0</td>\n",
       "      <td>Clearwater, FL</td>\n",
       "      <td>Clearwater, FL</td>\n",
       "      <td>1</td>\n",
       "      <td>250 - 1,000</td>\n",
       "    </tr>\n",
       "    <tr>\n",
       "      <th>3</th>\n",
       "      <td>Lab/Mic Associate Technical Support Specialist</td>\n",
       "      <td>SCC Soft Computer</td>\n",
       "      <td>Internet &amp; Software</td>\n",
       "      <td>NaN</td>\n",
       "      <td>2016-08-22</td>\n",
       "      <td>2023-03-13</td>\n",
       "      <td>00:00:00</td>\n",
       "      <td>2394 days</td>\n",
       "      <td>Full-Time</td>\n",
       "      <td>Job</td>\n",
       "      <td>...</td>\n",
       "      <td>NaT</td>\n",
       "      <td>Paid</td>\n",
       "      <td>hour</td>\n",
       "      <td>18.00</td>\n",
       "      <td>18.0</td>\n",
       "      <td>18.0</td>\n",
       "      <td>Clearwater, FL</td>\n",
       "      <td>Clearwater, FL</td>\n",
       "      <td>1</td>\n",
       "      <td>250 - 1,000</td>\n",
       "    </tr>\n",
       "    <tr>\n",
       "      <th>4</th>\n",
       "      <td>Computer Science Intern - Online Computer Scie...</td>\n",
       "      <td>Coding4Youth</td>\n",
       "      <td>Other Education</td>\n",
       "      <td>NaN</td>\n",
       "      <td>2016-09-19</td>\n",
       "      <td>2050-09-29</td>\n",
       "      <td>21:31:00</td>\n",
       "      <td>12428 days</td>\n",
       "      <td>Part-Time</td>\n",
       "      <td>Internship</td>\n",
       "      <td>...</td>\n",
       "      <td>1990-09-12</td>\n",
       "      <td>Paid</td>\n",
       "      <td>hour</td>\n",
       "      <td>20.00</td>\n",
       "      <td>20.0</td>\n",
       "      <td>20.0</td>\n",
       "      <td>San Jose, CA</td>\n",
       "      <td>Atlanta, GA Houston, TX Philadelphia, PA Chica...</td>\n",
       "      <td>11</td>\n",
       "      <td>10,000 - 25,000</td>\n",
       "    </tr>\n",
       "  </tbody>\n",
       "</table>\n",
       "<p>5 rows × 24 columns</p>\n",
       "</div>"
      ],
      "text/plain": [
       "                                           Job Title  \\\n",
       "0                  Entry Level Insurance Underwriter   \n",
       "1                                        Internships   \n",
       "2  Blood Bank Associate Technical Support Specialist   \n",
       "3     Lab/Mic Associate Technical Support Specialist   \n",
       "4  Computer Science Intern - Online Computer Scie...   \n",
       "\n",
       "                    Company Name             Industry Company division  \\\n",
       "0  Auto-Owners Insurance Company            Insurance              NaN   \n",
       "1  Auto-Owners Insurance Company            Insurance              NaN   \n",
       "2              SCC Soft Computer  Internet & Software              NaN   \n",
       "3              SCC Soft Computer  Internet & Software              NaN   \n",
       "4                   Coding4Youth      Other Education              NaN   \n",
       "\n",
       "  Posted date Application deadline (date) Application deadline (time)  \\\n",
       "0  2016-07-13                  2023-04-04                    15:30:00   \n",
       "1  2016-07-13                  2023-04-04                    15:30:00   \n",
       "2  2016-08-22                  2023-03-13                    00:00:00   \n",
       "3  2016-08-22                  2023-03-13                    00:00:00   \n",
       "4  2016-09-19                  2050-09-29                    21:31:00   \n",
       "\n",
       "  Application Window Employment Type    Job Type  ... Role end date  \\\n",
       "0          2456 days       Full-Time         Job  ...           NaT   \n",
       "1          2456 days       Full-Time  Internship  ...           NaT   \n",
       "2          2394 days       Full-Time         Job  ...           NaT   \n",
       "3          2394 days       Full-Time         Job  ...           NaT   \n",
       "4         12428 days       Part-Time  Internship  ...    1990-09-12   \n",
       "\n",
       "  Payment Status  Payment Period Pay rate Min salary Max salary  \\\n",
       "0         Unpaid             NaN      NaN        NaN        NaN   \n",
       "1         Unpaid             NaN      NaN        NaN        NaN   \n",
       "2           Paid            hour   19.00        19.0       19.0   \n",
       "3           Paid            hour   18.00        18.0       18.0   \n",
       "4           Paid            hour   20.00        20.0       20.0   \n",
       "\n",
       "     Headquarters                                   Company Location  \\\n",
       "0     Lansing, MI  Lakeland, FL Irmo, SC Forest, VA Lexington, KY...   \n",
       "1     Lansing, MI  Lakeland, FL Irmo, SC Charlotte, NC Forest, VA...   \n",
       "2  Clearwater, FL                                     Clearwater, FL   \n",
       "3  Clearwater, FL                                     Clearwater, FL   \n",
       "4    San Jose, CA  Atlanta, GA Houston, TX Philadelphia, PA Chica...   \n",
       "\n",
       "   Number of Location        Employees  \n",
       "0                  18   5,000 - 10,000  \n",
       "1                  20   5,000 - 10,000  \n",
       "2                   1      250 - 1,000  \n",
       "3                   1      250 - 1,000  \n",
       "4                  11  10,000 - 25,000  \n",
       "\n",
       "[5 rows x 24 columns]"
      ]
     },
     "execution_count": 16,
     "metadata": {},
     "output_type": "execute_result"
    }
   ],
   "source": [
    "df_modify.head()"
   ]
  },
  {
   "cell_type": "code",
   "execution_count": 17,
   "metadata": {},
   "outputs": [],
   "source": [
    "df_modify.to_csv('modified_data.csv', index=False)"
   ]
  },
  {
   "cell_type": "code",
   "execution_count": null,
   "metadata": {},
   "outputs": [],
   "source": []
  }
 ],
 "metadata": {
  "kernelspec": {
   "display_name": "Python 3 (ipykernel)",
   "language": "python",
   "name": "python3"
  },
  "language_info": {
   "codemirror_mode": {
    "name": "ipython",
    "version": 3
   },
   "file_extension": ".py",
   "mimetype": "text/x-python",
   "name": "python",
   "nbconvert_exporter": "python",
   "pygments_lexer": "ipython3",
   "version": "3.11.1"
  }
 },
 "nbformat": 4,
 "nbformat_minor": 2
}
