{
 "cells": [
  {
   "cell_type": "code",
   "execution_count": 2,
   "metadata": {},
   "outputs": [],
   "source": [
    "import pandas as pd\n",
    "import numpy as np\n",
    "import csv\n",
    "\n",
    "from selenium import webdriver\n",
    "from selenium.webdriver.chrome.options import Options\n",
    "\n",
    "\n",
    "from selenium.webdriver.support.ui import WebDriverWait\n",
    "from selenium.webdriver.common.by import By\n",
    "from selenium.webdriver.support import expected_conditions as EC\n",
    "\n",
    "\n",
    "import time\n",
    "from selenium.webdriver.common.keys import Keys\n",
    "\n",
    "# data manipulate library\n",
    "import pandas as pd\n",
    "\n",
    "import csv\n",
    "\n",
    "# address\n",
    "# from geopy.geocoders import Nominatim\n"
   ]
  },
  {
   "cell_type": "code",
   "execution_count": 4,
   "metadata": {},
   "outputs": [
    {
     "name": "stderr",
     "output_type": "stream",
     "text": [
      "/var/folders/_9/qq7pw_fx125c812gfv1wl_180000gn/T/ipykernel_30474/1822657814.py:3: DeprecationWarning: executable_path has been deprecated, please pass in a Service object\n",
      "  driver = webdriver.Chrome(executable_path=\"chromedriver.exe\", chrome_options=chrome_options)\n",
      "/var/folders/_9/qq7pw_fx125c812gfv1wl_180000gn/T/ipykernel_30474/1822657814.py:3: DeprecationWarning: use options instead of chrome_options\n",
      "  driver = webdriver.Chrome(executable_path=\"chromedriver.exe\", chrome_options=chrome_options)\n"
     ]
    }
   ],
   "source": [
    "chrome_options = Options()\n",
    "\n",
    "driver = webdriver.Chrome(executable_path=\"chromedriver.exe\", chrome_options=chrome_options)"
   ]
  },
  {
   "cell_type": "code",
   "execution_count": 11,
   "metadata": {},
   "outputs": [],
   "source": [
    "def SearchJobCard(job_card):\n",
    "    # job title\n",
    "    job_title = job_card.find_element(By.XPATH, './/div[@class=\"style__job-type___oYHQq\"]').text\n",
    "    print(job_title)"
   ]
  },
  {
   "cell_type": "code",
   "execution_count": 12,
   "metadata": {},
   "outputs": [
    {
     "ename": "NoSuchWindowException",
     "evalue": "Message: no such window: target window already closed\nfrom unknown error: web view not found\n  (Session info: chrome=110.0.5481.177)\nStacktrace:\n0   chromedriver                        0x000000010140b138 chromedriver + 4923704\n1   chromedriver                        0x00000001013839d3 chromedriver + 4368851\n2   chromedriver                        0x0000000100fcc787 chromedriver + 472967\n3   chromedriver                        0x0000000100fa2c15 chromedriver + 302101\n4   chromedriver                        0x000000010103f4cf chromedriver + 943311\n5   chromedriver                        0x00000001010542c6 chromedriver + 1028806\n6   chromedriver                        0x0000000101039d23 chromedriver + 920867\n7   chromedriver                        0x0000000101000a4b chromedriver + 686667\n8   chromedriver                        0x0000000101002044 chromedriver + 692292\n9   chromedriver                        0x00000001013d68fe chromedriver + 4708606\n10  chromedriver                        0x00000001013dbe22 chromedriver + 4730402\n11  chromedriver                        0x00000001013e46bf chromedriver + 4765375\n12  chromedriver                        0x00000001013dce80 chromedriver + 4734592\n13  chromedriver                        0x00000001013ad975 chromedriver + 4540789\n14  chromedriver                        0x00000001013fee78 chromedriver + 4873848\n15  chromedriver                        0x00000001013feff5 chromedriver + 4874229\n16  chromedriver                        0x00000001014136de chromedriver + 4957918\n17  libsystem_pthread.dylib             0x00007ff81dd59259 _pthread_start + 125\n18  libsystem_pthread.dylib             0x00007ff81dd54c7b thread_start + 15\n",
     "output_type": "error",
     "traceback": [
      "\u001b[0;31m---------------------------------------------------------------------------\u001b[0m",
      "\u001b[0;31mNoSuchWindowException\u001b[0m                     Traceback (most recent call last)",
      "\u001b[1;32m/Users/alisdghnia/Desktop/Handshake Project/handshake-scraper/Handshake Job Scraper.ipynb Cell 4\u001b[0m in \u001b[0;36m2\n\u001b[1;32m      <a href='vscode-notebook-cell:/Users/alisdghnia/Desktop/Handshake%20Project/handshake-scraper/Handshake%20Job%20Scraper.ipynb#X10sZmlsZQ%3D%3D?line=0'>1</a>\u001b[0m \u001b[39m# list of job cards\u001b[39;00m\n\u001b[0;32m----> <a href='vscode-notebook-cell:/Users/alisdghnia/Desktop/Handshake%20Project/handshake-scraper/Handshake%20Job%20Scraper.ipynb#X10sZmlsZQ%3D%3D?line=1'>2</a>\u001b[0m job_cards \u001b[39m=\u001b[39m driver\u001b[39m.\u001b[39;49mfind_elements(By\u001b[39m.\u001b[39;49mXPATH, \u001b[39m'\u001b[39;49m\u001b[39m//div/a[@data-hook=\u001b[39;49m\u001b[39m\"\u001b[39;49m\u001b[39mjobs-card\u001b[39;49m\u001b[39m\"\u001b[39;49m\u001b[39m]\u001b[39;49m\u001b[39m'\u001b[39;49m)\n\u001b[1;32m      <a href='vscode-notebook-cell:/Users/alisdghnia/Desktop/Handshake%20Project/handshake-scraper/Handshake%20Job%20Scraper.ipynb#X10sZmlsZQ%3D%3D?line=2'>3</a>\u001b[0m \u001b[39mprint\u001b[39m(job_cards)\n\u001b[1;32m      <a href='vscode-notebook-cell:/Users/alisdghnia/Desktop/Handshake%20Project/handshake-scraper/Handshake%20Job%20Scraper.ipynb#X10sZmlsZQ%3D%3D?line=4'>5</a>\u001b[0m \u001b[39m# click to each of them\u001b[39;00m\n",
      "File \u001b[0;32m~/opt/anaconda3/envs/CryptoResearch/lib/python3.9/site-packages/selenium/webdriver/remote/webdriver.py:860\u001b[0m, in \u001b[0;36mWebDriver.find_elements\u001b[0;34m(self, by, value)\u001b[0m\n\u001b[1;32m    856\u001b[0m     value \u001b[39m=\u001b[39m \u001b[39mf\u001b[39m\u001b[39m'\u001b[39m\u001b[39m[name=\u001b[39m\u001b[39m\"\u001b[39m\u001b[39m{\u001b[39;00mvalue\u001b[39m}\u001b[39;00m\u001b[39m\"\u001b[39m\u001b[39m]\u001b[39m\u001b[39m'\u001b[39m\n\u001b[1;32m    858\u001b[0m \u001b[39m# Return empty list if driver returns null\u001b[39;00m\n\u001b[1;32m    859\u001b[0m \u001b[39m# See https://github.com/SeleniumHQ/selenium/issues/4555\u001b[39;00m\n\u001b[0;32m--> 860\u001b[0m \u001b[39mreturn\u001b[39;00m \u001b[39mself\u001b[39;49m\u001b[39m.\u001b[39;49mexecute(Command\u001b[39m.\u001b[39;49mFIND_ELEMENTS, {\u001b[39m\"\u001b[39;49m\u001b[39musing\u001b[39;49m\u001b[39m\"\u001b[39;49m: by, \u001b[39m\"\u001b[39;49m\u001b[39mvalue\u001b[39;49m\u001b[39m\"\u001b[39;49m: value})[\u001b[39m\"\u001b[39m\u001b[39mvalue\u001b[39m\u001b[39m\"\u001b[39m] \u001b[39mor\u001b[39;00m []\n",
      "File \u001b[0;32m~/opt/anaconda3/envs/CryptoResearch/lib/python3.9/site-packages/selenium/webdriver/remote/webdriver.py:440\u001b[0m, in \u001b[0;36mWebDriver.execute\u001b[0;34m(self, driver_command, params)\u001b[0m\n\u001b[1;32m    438\u001b[0m response \u001b[39m=\u001b[39m \u001b[39mself\u001b[39m\u001b[39m.\u001b[39mcommand_executor\u001b[39m.\u001b[39mexecute(driver_command, params)\n\u001b[1;32m    439\u001b[0m \u001b[39mif\u001b[39;00m response:\n\u001b[0;32m--> 440\u001b[0m     \u001b[39mself\u001b[39;49m\u001b[39m.\u001b[39;49merror_handler\u001b[39m.\u001b[39;49mcheck_response(response)\n\u001b[1;32m    441\u001b[0m     response[\u001b[39m\"\u001b[39m\u001b[39mvalue\u001b[39m\u001b[39m\"\u001b[39m] \u001b[39m=\u001b[39m \u001b[39mself\u001b[39m\u001b[39m.\u001b[39m_unwrap_value(response\u001b[39m.\u001b[39mget(\u001b[39m\"\u001b[39m\u001b[39mvalue\u001b[39m\u001b[39m\"\u001b[39m, \u001b[39mNone\u001b[39;00m))\n\u001b[1;32m    442\u001b[0m     \u001b[39mreturn\u001b[39;00m response\n",
      "File \u001b[0;32m~/opt/anaconda3/envs/CryptoResearch/lib/python3.9/site-packages/selenium/webdriver/remote/errorhandler.py:245\u001b[0m, in \u001b[0;36mErrorHandler.check_response\u001b[0;34m(self, response)\u001b[0m\n\u001b[1;32m    243\u001b[0m         alert_text \u001b[39m=\u001b[39m value[\u001b[39m\"\u001b[39m\u001b[39malert\u001b[39m\u001b[39m\"\u001b[39m]\u001b[39m.\u001b[39mget(\u001b[39m\"\u001b[39m\u001b[39mtext\u001b[39m\u001b[39m\"\u001b[39m)\n\u001b[1;32m    244\u001b[0m     \u001b[39mraise\u001b[39;00m exception_class(message, screen, stacktrace, alert_text)  \u001b[39m# type: ignore[call-arg]  # mypy is not smart enough here\u001b[39;00m\n\u001b[0;32m--> 245\u001b[0m \u001b[39mraise\u001b[39;00m exception_class(message, screen, stacktrace)\n",
      "\u001b[0;31mNoSuchWindowException\u001b[0m: Message: no such window: target window already closed\nfrom unknown error: web view not found\n  (Session info: chrome=110.0.5481.177)\nStacktrace:\n0   chromedriver                        0x000000010140b138 chromedriver + 4923704\n1   chromedriver                        0x00000001013839d3 chromedriver + 4368851\n2   chromedriver                        0x0000000100fcc787 chromedriver + 472967\n3   chromedriver                        0x0000000100fa2c15 chromedriver + 302101\n4   chromedriver                        0x000000010103f4cf chromedriver + 943311\n5   chromedriver                        0x00000001010542c6 chromedriver + 1028806\n6   chromedriver                        0x0000000101039d23 chromedriver + 920867\n7   chromedriver                        0x0000000101000a4b chromedriver + 686667\n8   chromedriver                        0x0000000101002044 chromedriver + 692292\n9   chromedriver                        0x00000001013d68fe chromedriver + 4708606\n10  chromedriver                        0x00000001013dbe22 chromedriver + 4730402\n11  chromedriver                        0x00000001013e46bf chromedriver + 4765375\n12  chromedriver                        0x00000001013dce80 chromedriver + 4734592\n13  chromedriver                        0x00000001013ad975 chromedriver + 4540789\n14  chromedriver                        0x00000001013fee78 chromedriver + 4873848\n15  chromedriver                        0x00000001013feff5 chromedriver + 4874229\n16  chromedriver                        0x00000001014136de chromedriver + 4957918\n17  libsystem_pthread.dylib             0x00007ff81dd59259 _pthread_start + 125\n18  libsystem_pthread.dylib             0x00007ff81dd54c7b thread_start + 15\n"
     ]
    }
   ],
   "source": [
    "# list of job cards\n",
    "job_cards = driver.find_elements(By.XPATH, '//div/a[@data-hook=\"jobs-card\"]')\n",
    "print(job_cards)\n",
    "\n",
    "# click to each of them\n",
    "for job_card in job_cards:\n",
    "    job_card.click()\n",
    "    time.sleep(2) # wait for the job description to load\n",
    "\n",
    "    # look into each job card\n",
    "    SearchJobCard(job_card)"
   ]
  },
  {
   "cell_type": "code",
   "execution_count": 7,
   "metadata": {},
   "outputs": [],
   "source": [
    "open('data.csv', 'w').close()\n",
    "\n",
    "with open('data.csv', 'a', newline='') as f:\n",
    "    writer = csv.writer(f)\n",
    "    writer.writerow(['position_type'])"
   ]
  },
  {
   "cell_type": "code",
   "execution_count": 8,
   "metadata": {},
   "outputs": [],
   "source": [
    "def search_info(items):\n",
    "    # create a dataframe to store the data\n",
    "    df = pd.DataFrame(columns=['position_type'])\n",
    "\n",
    "    for item in items:\n",
    "        # photo link \n",
    "        position_type = item.find_element(By.XPATH, './/div[@class=\"style__job-type___oYHQq\"]').text\n",
    "        print(position_type)\n",
    "\n",
    "        print(\" ----------------- \") \n",
    "\n",
    "        # write to the csv file\n",
    "        with open('data.csv', 'a', newline='') as f:\n",
    "            writer = csv.writer(f)\n",
    "            writer.writerow([position_type])\n",
    "\n",
    "        # add to the dataframe\n",
    "        df = df.append({'position_type': position_type}, ignore_index=True)\n",
    "\n",
    "    # return the dataframe\n",
    "    return df"
   ]
  },
  {
   "cell_type": "code",
   "execution_count": 9,
   "metadata": {},
   "outputs": [],
   "source": [
    "# search info for the first page\n",
    "driver.get(\"https://app.joinhandshake.com/stu/postings\")\n",
    "sleep(5)\n"
   ]
  },
  {
   "cell_type": "code",
   "execution_count": null,
   "metadata": {},
   "outputs": [],
   "source": []
  }
 ],
 "metadata": {
  "kernelspec": {
   "display_name": "CryptoResearch",
   "language": "python",
   "name": "python3"
  },
  "language_info": {
   "codemirror_mode": {
    "name": "ipython",
    "version": 3
   },
   "file_extension": ".py",
   "mimetype": "text/x-python",
   "name": "python",
   "nbconvert_exporter": "python",
   "pygments_lexer": "ipython3",
   "version": "3.9.15"
  },
  "orig_nbformat": 4
 },
 "nbformat": 4,
 "nbformat_minor": 2
}
